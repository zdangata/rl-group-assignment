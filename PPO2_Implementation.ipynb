{
 "cells": [
  {
   "cell_type": "markdown",
   "metadata": {},
   "source": [
    "PSEUDO CODE:\n",
    "\n",
    "Algorithm: REINFORCE\n",
    "Initialise parameters: step size 𝛼 ∈ (0,1]\n",
    "Initialise policy network 𝜋 with parameters 𝜽\n",
    "\n",
    "For episode = 1, 𝑀 do\n",
    "    Generate an episode trajectory 𝜏~𝜋𝜽\n",
    "    For 𝑡 = 1, 𝑇 − 1 do\n",
    "       G <- Sum of rewards\n",
    "       𝜽 <- update parameters\n",
    "    End For\n",
    "End For\n",
    "\n"
   ]
  },
  {
   "cell_type": "code",
   "execution_count": 4,
   "metadata": {},
   "outputs": [
    {
     "name": "stderr",
     "output_type": "stream",
     "text": [
      "/Users/luisweekes/anaconda3/envs/myenv/lib/python3.11/site-packages/gym/utils/passive_env_checker.py:233: DeprecationWarning: `np.bool8` is a deprecated alias for `np.bool_`.  (Deprecated NumPy 1.24)\n",
      "  if not isinstance(terminated, (bool, np.bool8)):\n"
     ]
    },
    {
     "ename": "ValueError",
     "evalue": "too many values to unpack (expected 4)",
     "output_type": "error",
     "traceback": [
      "\u001b[0;31m---------------------------------------------------------------------------\u001b[0m",
      "\u001b[0;31mValueError\u001b[0m                                Traceback (most recent call last)",
      "Cell \u001b[0;32mIn[4], line 71\u001b[0m\n\u001b[1;32m     68\u001b[0m     \u001b[38;5;28;01mreturn\u001b[39;00m policy_net\n\u001b[1;32m     70\u001b[0m \u001b[38;5;66;03m# Train the policy network\u001b[39;00m\n\u001b[0;32m---> 71\u001b[0m policy_net \u001b[38;5;241m=\u001b[39m \u001b[43mreinforce\u001b[49m\u001b[43m(\u001b[49m\u001b[43mnum_episodes\u001b[49m\u001b[38;5;241;43m=\u001b[39;49m\u001b[38;5;241;43m1000\u001b[39;49m\u001b[43m,\u001b[49m\u001b[43m \u001b[49m\u001b[43mmax_steps_per_episode\u001b[49m\u001b[38;5;241;43m=\u001b[39;49m\u001b[38;5;241;43m200\u001b[39;49m\u001b[43m)\u001b[49m\n",
      "Cell \u001b[0;32mIn[4], line 39\u001b[0m, in \u001b[0;36mreinforce\u001b[0;34m(num_episodes, max_steps_per_episode, gamma, lr)\u001b[0m\n\u001b[1;32m     36\u001b[0m action_probs \u001b[38;5;241m=\u001b[39m policy_net(torch\u001b[38;5;241m.\u001b[39mfrom_numpy(state)\u001b[38;5;241m.\u001b[39mfloat())\n\u001b[1;32m     37\u001b[0m action \u001b[38;5;241m=\u001b[39m np\u001b[38;5;241m.\u001b[39mrandom\u001b[38;5;241m.\u001b[39mchoice(env\u001b[38;5;241m.\u001b[39maction_space\u001b[38;5;241m.\u001b[39mn, p\u001b[38;5;241m=\u001b[39maction_probs\u001b[38;5;241m.\u001b[39mdetach()\u001b[38;5;241m.\u001b[39mnumpy())\n\u001b[0;32m---> 39\u001b[0m next_state, reward, done, _ \u001b[38;5;241m=\u001b[39m env\u001b[38;5;241m.\u001b[39mstep(action)\n\u001b[1;32m     40\u001b[0m episode_rewards\u001b[38;5;241m.\u001b[39mappend(reward)\n\u001b[1;32m     42\u001b[0m \u001b[38;5;28;01mif\u001b[39;00m done:\n",
      "\u001b[0;31mValueError\u001b[0m: too many values to unpack (expected 4)"
     ]
    }
   ],
   "source": [
    "import gym\n",
    "import numpy as np\n",
    "from collections import deque\n",
    "import torch \n",
    "import torch.nn as nn\n",
    "\n",
    "# Initialize the environment\n",
    "env = gym.make('CartPole-v1')\n",
    "\n",
    "# Define the policy network\n",
    "class PolicyNetwork(nn.Module):\n",
    "    def __init__(self, state_size, action_size, hidden_size=32):\n",
    "        super(PolicyNetwork, self).__init__()\n",
    "        self.fc1 = nn.Linear(state_size, hidden_size)\n",
    "        self.fc2 = nn.Linear(hidden_size, action_size)\n",
    "\n",
    "    def forward(self, state):\n",
    "        x = torch.relu(self.fc1(state))\n",
    "        action_probs = torch.softmax(self.fc2(x), dim=-1)\n",
    "        return action_probs\n",
    "\n",
    "# Reinforce algorithm\n",
    "def reinforce(num_episodes, max_steps_per_episode, gamma=0.99, lr=0.01):\n",
    "    policy_net = PolicyNetwork(state_size=env.observation_space.shape[0],\n",
    "                               action_size=env.action_space.n)\n",
    "    optimizer = torch.optim.Adam(policy_net.parameters(), lr=lr)\n",
    "    \n",
    "    for episode in range(num_episodes):\n",
    "        state = env.reset()\n",
    "\n",
    "        state = state[0]\n",
    "        episode_rewards = deque()\n",
    "\n",
    "        \n",
    "        for step in range(max_steps_per_episode):\n",
    "            action_probs = policy_net(torch.from_numpy(state).float())\n",
    "            action = np.random.choice(env.action_space.n, p=action_probs.detach().numpy())\n",
    "            \n",
    "            next_state, reward, done, _ = env.step(action)\n",
    "            episode_rewards.append(reward)\n",
    "            \n",
    "            if done:\n",
    "                break\n",
    "                \n",
    "            state = next_state\n",
    "        \n",
    "        # Compute the discounted cumulative reward\n",
    "        discounted_rewards = []\n",
    "        R = 0\n",
    "        for r in episode_rewards[::-1]:\n",
    "            R = r + gamma * R\n",
    "            discounted_rewards.insert(0, R)\n",
    "        \n",
    "        # Normalize the discounted rewards\n",
    "        discounted_rewards = torch.tensor(discounted_rewards)\n",
    "        discounted_rewards = (discounted_rewards - discounted_rewards.mean()) / (discounted_rewards.std() + 1e-9)\n",
    "        \n",
    "        # Compute the policy gradient and update the policy network\n",
    "        policy_losses = []\n",
    "        for reward, log_prob in zip(discounted_rewards, log_probs):\n",
    "            policy_losses.append(-log_prob * reward)\n",
    "        \n",
    "        policy_loss = torch.stack(policy_losses).sum()\n",
    "        optimizer.zero_grad()\n",
    "        policy_loss.backward()\n",
    "        optimizer.step()\n",
    "        \n",
    "    return policy_net\n",
    "\n",
    "# Train the policy network\n",
    "policy_net = reinforce(num_episodes=1000, max_steps_per_episode=200)\n",
    "\n",
    "\n",
    "\n"
   ]
  }
 ],
 "metadata": {
  "kernelspec": {
   "display_name": "myenv",
   "language": "python",
   "name": "python3"
  },
  "language_info": {
   "codemirror_mode": {
    "name": "ipython",
    "version": 3
   },
   "file_extension": ".py",
   "mimetype": "text/x-python",
   "name": "python",
   "nbconvert_exporter": "python",
   "pygments_lexer": "ipython3",
   "version": "3.11.5"
  }
 },
 "nbformat": 4,
 "nbformat_minor": 2
}
